{
 "cells": [
  {
   "cell_type": "code",
   "execution_count": 1,
   "metadata": {},
   "outputs": [],
   "source": [
    "from bs4 import BeautifulSoup as bs\n",
    "import requests"
   ]
  },
  {
   "cell_type": "code",
   "execution_count": 8,
   "metadata": {},
   "outputs": [],
   "source": [
    "response = requests.get(\"https://vuetifyjs.com/en/components/autocompletes\")\n",
    "\n",
    "soup = bs(response.text, \"html.parser\")\n",
    "\n"
   ]
  },
  {
   "cell_type": "code",
   "execution_count": 9,
   "metadata": {},
   "outputs": [
    {
     "name": "stdout",
     "output_type": "stream",
     "text": [
      "<!DOCTYPE html>\n",
      "<html lang=\"en\">\n",
      " <head>\n",
      "  <link crossorigin=\"\" href=\"https://fonts.gstatic.com/\" rel=\"preconnect\"/>\n",
      "  <link as=\"style\" href=\"https://fonts.googleapis.com/css2?family=Roboto:wght@100;300;400;500;700;900&amp;display=swap\" onload=\"this.rel='stylesheet'\" rel=\"preload\"/>\n",
      "  <meta charset=\"utf-8\"/>\n",
      "  <link href=\"/favicon.ico\" rel=\"icon\">\n",
      "   <meta content=\"#1867c0\" name=\"theme-color\"/>\n",
      "   <meta content=\"width=device-width, initial-scale=1, maximum-scale=5, minimal-ui, shrink-to-fit=no\" name=\"viewport\"/>\n",
      "   <title>\n",
      "    Autocomplete component — Vuetify\n",
      "   </title>\n",
      "   <meta content=\"The autocomplete component provides type-ahead autocomplete functionality and provides a list of available options.\" name=\"description\"/>\n",
      "   <meta content=\"autocomplete, vuetify autocomplete component, vue autocomplete component\" name=\"keywords\"/>\n",
      "   <meta content=\"542948969434243\" property=\"fb:app_id\"/>\n",
      "   <meta content=\"The autocomplete component provides type-ahead autocomplete functionality and provides a list of available options.\" property=\"og:description\"/>\n",
      "   <meta content=\"https://cdn.vuetifyjs.com/docs/images/graphics/og-image.png\" property=\"og:image\"/>\n",
      "   <meta content=\"Vuetify\" property=\"og:site_name\"/>\n",
      "   <meta content=\"Autocomplete component — Vuetify\" property=\"og:title\"/>\n",
      "   <meta content=\"website\" property=\"og:type\"/>\n",
      "   <meta content=\"https://cdn.vuetifyjs.com/docs/images/graphics/og-image.png\" property=\"twitter:image\"/>\n",
      "   <meta content=\"summary_large_image\" property=\"twitter:card\"/>\n",
      "   <meta content=\"https://vuetifyjs.com/\" property=\"twitter:domain\"/>\n",
      "   <meta content=\"@vuetifyjs\" property=\"twitter:site\"/>\n",
      "   <link href=\"/favicon.ico\" rel=\"shortcut icon\"/>\n",
      "   <link href=\"/search.xml\" rel=\"search\" title=\"Vuetify\" type=\"application/opensearchdescription+xml\"/>\n",
      "   <link href=\"https://api.cosmicjs.com/\" rel=\"preconnect\"/>\n",
      "   <link href=\"https://cdn.carbonads.com/\" rel=\"preconnect\"/>\n",
      "   <link href=\"https://srv.carbonads.net/\" rel=\"preconnect\"/>\n",
      "   <link href=\"https://www.google-analytics.com/\" rel=\"preconnect\"/>\n",
      "   <link href=\"https://api.cosmicjs.com/\" rel=\"dns-prefetch\"/>\n",
      "   <link href=\"https://cdn.carbonads.com/\" rel=\"dns-prefetch\"/>\n",
      "   <link href=\"https://srv.carbonads.net/\" rel=\"dns-prefetch\"/>\n",
      "   <link href=\"https://www.google-analytics.com/\" rel=\"dns-prefetch\"/>\n",
      "   <script defer=\"\" src=\"https://cdnjs.cloudflare.com/polyfill/v3/polyfill.min.js?features=IntersectionObserver,ResizeObserver,WebAnimations,Object.fromEntries,Array.prototype.at\">\n",
      "   </script>\n",
      "   <link href=\"https://www.google-analytics.com\" rel=\"preconnect\"/>\n",
      "   <link href=\"https://fonts.googleapis.com\" rel=\"preconnect\"/>\n",
      "   <link href=\"https://cdnjs.cloudflare.com\" rel=\"preconnect\"/>\n",
      "   <link href=\"https://www.googletagmanager.com\" rel=\"preconnect\"/>\n",
      "   <link href=\"https://api.cosmicjs.com\" rel=\"preconnect\"/>\n",
      "   <link href=\"https://cdn.cosmicjs.com\" rel=\"preconnect\"/>\n",
      "   <link href=\"https://fonts.gstatic.com\" rel=\"preconnect\"/>\n",
      "   <link href=\"https://cdn.vuetifyjs.com\" rel=\"preconnect\"/>\n",
      "   <script crossorigin=\"\" src=\"/assets/index-CX84gqfN.js\" type=\"module\">\n",
      "   </script>\n",
      "   <link crossorigin=\"\" href=\"/assets/style-BZcBGHYt.css\" rel=\"stylesheet\"/>\n",
      "  </link>\n",
      " </head>\n",
      " <body>\n",
      "  <div id=\"app\">\n",
      "  </div>\n",
      " </body>\n",
      "</html>\n",
      "\n"
     ]
    }
   ],
   "source": [
    "# get body of html\n",
    "\n",
    "body = soup.body\n",
    "\n",
    "print(soup.prettify())"
   ]
  },
  {
   "cell_type": "code",
   "execution_count": 4,
   "metadata": {},
   "outputs": [
    {
     "name": "stdout",
     "output_type": "stream",
     "text": [
      "<body>\n",
      " <div id=\"app\">\n",
      " </div>\n",
      "</body>\n",
      "\n"
     ]
    }
   ],
   "source": [
    "# remove all <style> tags and contents\n",
    "for style in body.select('style'):\n",
    "    style.decompose()\n",
    "    \n",
    "# remove all <script> tags and contents\n",
    "for script in body.select('script'):\n",
    "    script.decompose()\n",
    "    \n",
    "# remove all <noscript> tags and contents\n",
    "for noscript in body.select('noscript'):\n",
    "    noscript.decompose()\n",
    "    \n",
    "\n",
    "# Show result\n",
    "\n",
    "print(body.prettify())"
   ]
  },
  {
   "cell_type": "markdown",
   "metadata": {},
   "source": [
    "## Second Attempt"
   ]
  },
  {
   "cell_type": "code",
   "execution_count": null,
   "metadata": {},
   "outputs": [],
   "source": []
  }
 ],
 "metadata": {
  "kernelspec": {
   "display_name": "Python 3",
   "language": "python",
   "name": "python3"
  },
  "language_info": {
   "codemirror_mode": {
    "name": "ipython",
    "version": 3
   },
   "file_extension": ".py",
   "mimetype": "text/x-python",
   "name": "python",
   "nbconvert_exporter": "python",
   "pygments_lexer": "ipython3",
   "version": "3.12.1"
  }
 },
 "nbformat": 4,
 "nbformat_minor": 2
}
